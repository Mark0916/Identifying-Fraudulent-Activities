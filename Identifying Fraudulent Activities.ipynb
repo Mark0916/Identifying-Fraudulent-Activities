{
 "cells": [
  {
   "cell_type": "code",
   "execution_count": 159,
   "metadata": {},
   "outputs": [],
   "source": [
    "import pandas as pd\n",
    "import numpy as np\n",
    "import seaborn as sns\n",
    "import matplotlib.pyplot as plt\n",
    "import warnings\n",
    "warnings.simplefilter(action='ignore', category=FutureWarning)\n",
    "pd.set_option('chained_assignment',None)"
   ]
  },
  {
   "cell_type": "code",
   "execution_count": 3,
   "metadata": {},
   "outputs": [],
   "source": [
    "fradu_data = pd.read_csv('Fraud_Data.csv')\n",
    "address_data = pd.read_csv('IpAddress_to_Country.csv')"
   ]
  },
  {
   "cell_type": "code",
   "execution_count": 89,
   "metadata": {},
   "outputs": [],
   "source": [
    "def country_mapping(ip_address):\n",
    "    \n",
    "    df = address_data[(address_data.lower_bound_ip_address<=ip_address)&(address_data.upper_bound_ip_address>=ip_address)]\n",
    "    if len(df) > 0:\n",
    "        return df['country'].iloc[0]\n",
    "    else:\n",
    "        return 'Unknown'"
   ]
  },
  {
   "cell_type": "code",
   "execution_count": 91,
   "metadata": {},
   "outputs": [],
   "source": [
    "fradu_data['country'] = fradu_data['ip_address'].apply(country_mapping)"
   ]
  },
  {
   "cell_type": "code",
   "execution_count": 163,
   "metadata": {},
   "outputs": [
    {
     "data": {
      "text/html": [
       "<div>\n",
       "<style scoped>\n",
       "    .dataframe tbody tr th:only-of-type {\n",
       "        vertical-align: middle;\n",
       "    }\n",
       "\n",
       "    .dataframe tbody tr th {\n",
       "        vertical-align: top;\n",
       "    }\n",
       "\n",
       "    .dataframe thead th {\n",
       "        text-align: right;\n",
       "    }\n",
       "</style>\n",
       "<table border=\"1\" class=\"dataframe\">\n",
       "  <thead>\n",
       "    <tr style=\"text-align: right;\">\n",
       "      <th></th>\n",
       "      <th>user_id</th>\n",
       "      <th>signup_time</th>\n",
       "      <th>purchase_time</th>\n",
       "      <th>purchase_value</th>\n",
       "      <th>device_id</th>\n",
       "      <th>source</th>\n",
       "      <th>browser</th>\n",
       "      <th>sex</th>\n",
       "      <th>age</th>\n",
       "      <th>ip_address</th>\n",
       "      <th>...</th>\n",
       "      <th>pur_sfter_signup_seconds</th>\n",
       "      <th>pur_sfter_signup_hours</th>\n",
       "      <th>pur_sfter_signup_minutes</th>\n",
       "      <th>device_count</th>\n",
       "      <th>ip_address_count</th>\n",
       "      <th>pur_after_signup</th>\n",
       "      <th>pur_after_signup_days</th>\n",
       "      <th>pur_after_signup_seconds</th>\n",
       "      <th>pur_after_signup_hours</th>\n",
       "      <th>pur_after_signup_minutes</th>\n",
       "    </tr>\n",
       "  </thead>\n",
       "  <tbody>\n",
       "    <tr>\n",
       "      <th>0</th>\n",
       "      <td>22058</td>\n",
       "      <td>2015-02-24 22:55:49</td>\n",
       "      <td>2015-04-18 02:47:11</td>\n",
       "      <td>34</td>\n",
       "      <td>QVPSPJUOCKZAR</td>\n",
       "      <td>SEO</td>\n",
       "      <td>Chrome</td>\n",
       "      <td>M</td>\n",
       "      <td>39</td>\n",
       "      <td>7.327584e+08</td>\n",
       "      <td>...</td>\n",
       "      <td>13882</td>\n",
       "      <td>3.856111</td>\n",
       "      <td>231.366667</td>\n",
       "      <td>1</td>\n",
       "      <td>1</td>\n",
       "      <td>52 days 03:51:22</td>\n",
       "      <td>52</td>\n",
       "      <td>13882</td>\n",
       "      <td>3.856111</td>\n",
       "      <td>231.366667</td>\n",
       "    </tr>\n",
       "    <tr>\n",
       "      <th>1</th>\n",
       "      <td>333320</td>\n",
       "      <td>2015-06-07 20:39:50</td>\n",
       "      <td>2015-06-08 01:38:54</td>\n",
       "      <td>16</td>\n",
       "      <td>EOGFQPIZPYXFZ</td>\n",
       "      <td>Ads</td>\n",
       "      <td>Chrome</td>\n",
       "      <td>F</td>\n",
       "      <td>53</td>\n",
       "      <td>3.503114e+08</td>\n",
       "      <td>...</td>\n",
       "      <td>17944</td>\n",
       "      <td>4.984444</td>\n",
       "      <td>299.066667</td>\n",
       "      <td>1</td>\n",
       "      <td>1</td>\n",
       "      <td>0 days 04:59:04</td>\n",
       "      <td>0</td>\n",
       "      <td>17944</td>\n",
       "      <td>4.984444</td>\n",
       "      <td>299.066667</td>\n",
       "    </tr>\n",
       "    <tr>\n",
       "      <th>2</th>\n",
       "      <td>1359</td>\n",
       "      <td>2015-01-01 18:52:44</td>\n",
       "      <td>2015-01-01 18:52:45</td>\n",
       "      <td>15</td>\n",
       "      <td>YSSKYOSJHPPLJ</td>\n",
       "      <td>SEO</td>\n",
       "      <td>Opera</td>\n",
       "      <td>M</td>\n",
       "      <td>53</td>\n",
       "      <td>2.621474e+09</td>\n",
       "      <td>...</td>\n",
       "      <td>1</td>\n",
       "      <td>0.000278</td>\n",
       "      <td>0.016667</td>\n",
       "      <td>12</td>\n",
       "      <td>12</td>\n",
       "      <td>0 days 00:00:01</td>\n",
       "      <td>0</td>\n",
       "      <td>1</td>\n",
       "      <td>0.000278</td>\n",
       "      <td>0.016667</td>\n",
       "    </tr>\n",
       "    <tr>\n",
       "      <th>3</th>\n",
       "      <td>150084</td>\n",
       "      <td>2015-04-28 21:13:25</td>\n",
       "      <td>2015-05-04 13:54:50</td>\n",
       "      <td>44</td>\n",
       "      <td>ATGTXKYKUDUQN</td>\n",
       "      <td>SEO</td>\n",
       "      <td>Safari</td>\n",
       "      <td>M</td>\n",
       "      <td>41</td>\n",
       "      <td>3.840542e+09</td>\n",
       "      <td>...</td>\n",
       "      <td>60085</td>\n",
       "      <td>16.690278</td>\n",
       "      <td>1001.416667</td>\n",
       "      <td>1</td>\n",
       "      <td>1</td>\n",
       "      <td>5 days 16:41:25</td>\n",
       "      <td>5</td>\n",
       "      <td>60085</td>\n",
       "      <td>16.690278</td>\n",
       "      <td>1001.416667</td>\n",
       "    </tr>\n",
       "    <tr>\n",
       "      <th>4</th>\n",
       "      <td>221365</td>\n",
       "      <td>2015-07-21 07:09:52</td>\n",
       "      <td>2015-09-09 18:40:53</td>\n",
       "      <td>39</td>\n",
       "      <td>NAUITBZFJKHWW</td>\n",
       "      <td>Ads</td>\n",
       "      <td>Safari</td>\n",
       "      <td>M</td>\n",
       "      <td>45</td>\n",
       "      <td>4.155831e+08</td>\n",
       "      <td>...</td>\n",
       "      <td>41461</td>\n",
       "      <td>11.516944</td>\n",
       "      <td>691.016667</td>\n",
       "      <td>1</td>\n",
       "      <td>1</td>\n",
       "      <td>50 days 11:31:01</td>\n",
       "      <td>50</td>\n",
       "      <td>41461</td>\n",
       "      <td>11.516944</td>\n",
       "      <td>691.016667</td>\n",
       "    </tr>\n",
       "  </tbody>\n",
       "</table>\n",
       "<p>5 rows × 24 columns</p>\n",
       "</div>"
      ],
      "text/plain": [
       "   user_id         signup_time       purchase_time  purchase_value  \\\n",
       "0    22058 2015-02-24 22:55:49 2015-04-18 02:47:11              34   \n",
       "1   333320 2015-06-07 20:39:50 2015-06-08 01:38:54              16   \n",
       "2     1359 2015-01-01 18:52:44 2015-01-01 18:52:45              15   \n",
       "3   150084 2015-04-28 21:13:25 2015-05-04 13:54:50              44   \n",
       "4   221365 2015-07-21 07:09:52 2015-09-09 18:40:53              39   \n",
       "\n",
       "       device_id source browser sex  age    ip_address  ...  \\\n",
       "0  QVPSPJUOCKZAR    SEO  Chrome   M   39  7.327584e+08  ...   \n",
       "1  EOGFQPIZPYXFZ    Ads  Chrome   F   53  3.503114e+08  ...   \n",
       "2  YSSKYOSJHPPLJ    SEO   Opera   M   53  2.621474e+09  ...   \n",
       "3  ATGTXKYKUDUQN    SEO  Safari   M   41  3.840542e+09  ...   \n",
       "4  NAUITBZFJKHWW    Ads  Safari   M   45  4.155831e+08  ...   \n",
       "\n",
       "   pur_sfter_signup_seconds pur_sfter_signup_hours  pur_sfter_signup_minutes  \\\n",
       "0                     13882               3.856111                231.366667   \n",
       "1                     17944               4.984444                299.066667   \n",
       "2                         1               0.000278                  0.016667   \n",
       "3                     60085              16.690278               1001.416667   \n",
       "4                     41461              11.516944                691.016667   \n",
       "\n",
       "  device_count  ip_address_count  pur_after_signup  pur_after_signup_days  \\\n",
       "0            1                 1  52 days 03:51:22                     52   \n",
       "1            1                 1   0 days 04:59:04                      0   \n",
       "2           12                12   0 days 00:00:01                      0   \n",
       "3            1                 1   5 days 16:41:25                      5   \n",
       "4            1                 1  50 days 11:31:01                     50   \n",
       "\n",
       "   pur_after_signup_seconds  pur_after_signup_hours pur_after_signup_minutes  \n",
       "0                     13882                3.856111               231.366667  \n",
       "1                     17944                4.984444               299.066667  \n",
       "2                         1                0.000278                 0.016667  \n",
       "3                     60085               16.690278              1001.416667  \n",
       "4                     41461               11.516944               691.016667  \n",
       "\n",
       "[5 rows x 24 columns]"
      ]
     },
     "execution_count": 163,
     "metadata": {},
     "output_type": "execute_result"
    }
   ],
   "source": [
    "fradu_data.head()"
   ]
  },
  {
   "cell_type": "markdown",
   "metadata": {},
   "source": [
    "# Question 1"
   ]
  },
  {
   "cell_type": "markdown",
   "metadata": {},
   "source": [
    "**Build a model to predict whether an activity is fraudulent or not. Explain how different assumptions about the cost of false positives vs false negatives would impact the model.**\n",
    "\n",
    "**Before building the predictive model, it is necessary to transform or create features based on the existing ones to better represent the dataset and hence, better training results.**"
   ]
  },
  {
   "cell_type": "code",
   "execution_count": 193,
   "metadata": {},
   "outputs": [],
   "source": [
    "from sklearn.preprocessing import LabelEncoder\n",
    "from sklearn.model_selection import train_test_split\n",
    "import xgboost as xgb\n",
    "from xgboost import XGBClassifier, cv, DMatrix\n",
    "xgb.set_config(verbosity=0)"
   ]
  },
  {
   "cell_type": "code",
   "execution_count": 101,
   "metadata": {},
   "outputs": [],
   "source": [
    "fradu_data['signup_time'] = pd.to_datetime(fradu_data['signup_time'])\n",
    "fradu_data['purchase_time'] = pd.to_datetime(fradu_data['purchase_time'])"
   ]
  },
  {
   "cell_type": "code",
   "execution_count": 156,
   "metadata": {},
   "outputs": [],
   "source": [
    "fradu_data['pur_after_signup'] = fradu_data['purchase_time'] - fradu_data['signup_time']\n",
    "fradu_data['pur_after_signup_days'] = fradu_data['pur_after_signup'].apply(lambda x: x.days)\n",
    "fradu_data['pur_after_signup_seconds'] = fradu_data['pur_after_signup'].apply(lambda x: x.seconds)\n",
    "fradu_data['pur_after_signup_hours'] = fradu_data['pur_after_signup_seconds']/3600\n",
    "fradu_data['pur_after_signup_minutes'] = fradu_data['pur_after_signup_seconds']/60"
   ]
  },
  {
   "cell_type": "code",
   "execution_count": 143,
   "metadata": {},
   "outputs": [],
   "source": [
    "#Create numeric features from the categorical ones\n",
    "device_count = fradu_data.groupby(['device_id']).agg({'user_id': 'count'}).reset_index().set_index('device_id')['user_id'].to_dict()\n",
    "fradu_data['device_count'] = fradu_data['device_id'].map(device_count)\n",
    "\n",
    "ip_address_count = fradu_data.groupby(['ip_address']).agg({'user_id': 'count'}).reset_index().set_index('ip_address')['user_id'].to_dict()\n",
    "fradu_data['ip_address_count'] = fradu_data['ip_address'].map(ip_address_count)"
   ]
  },
  {
   "cell_type": "code",
   "execution_count": 431,
   "metadata": {},
   "outputs": [],
   "source": [
    "le1 = LabelEncoder()\n",
    "fradu_data['source'] = le1.fit_transform(fradu_data['source'])\n",
    "le2 = LabelEncoder()\n",
    "fradu_data['browser'] = le2.fit_transform(fradu_data['browser'])\n",
    "le3 = LabelEncoder()\n",
    "fradu_data['sex'] = le3.fit_transform(fradu_data['sex'])\n",
    "le4 = LabelEncoder()\n",
    "fradu_data['country'] = le4.fit_transform(fradu_data['country'])"
   ]
  },
  {
   "cell_type": "code",
   "execution_count": 421,
   "metadata": {},
   "outputs": [],
   "source": [
    "X = fradu_data[['purchase_value','source','browser','sex','age','country','pur_after_signup_days',\n",
    "                'pur_after_signup_seconds','pur_after_signup_hours','pur_after_signup_minutes','device_count','ip_address_count']]\n",
    "y = fradu_data['class']"
   ]
  },
  {
   "cell_type": "code",
   "execution_count": 422,
   "metadata": {},
   "outputs": [],
   "source": [
    "X_train, X_test, y_train, y_test = train_test_split(X, y, test_size=0.2)"
   ]
  },
  {
   "cell_type": "code",
   "execution_count": 423,
   "metadata": {
    "scrolled": true
   },
   "outputs": [
    {
     "name": "stdout",
     "output_type": "stream",
     "text": [
      "[0]\tvalidation_0-auc:0.84351\tvalidation_1-auc:0.84625\n",
      "[1]\tvalidation_0-auc:0.84352\tvalidation_1-auc:0.84623\n",
      "[2]\tvalidation_0-auc:0.84354\tvalidation_1-auc:0.84623\n",
      "[3]\tvalidation_0-auc:0.84359\tvalidation_1-auc:0.84621\n"
     ]
    },
    {
     "name": "stderr",
     "output_type": "stream",
     "text": [
      "C:\\Users\\EDZ\\Anaconda3\\lib\\site-packages\\xgboost\\sklearn.py:1146: UserWarning: The use of label encoder in XGBClassifier is deprecated and will be removed in a future release. To remove this warning, do the following: 1) Pass option use_label_encoder=False when constructing XGBClassifier object; and 2) Encode your labels (y) as integers starting with 0, i.e. 0, 1, 2, ..., [num_class - 1].\n",
      "  warnings.warn(label_encoder_deprecation_msg, UserWarning)\n"
     ]
    },
    {
     "name": "stdout",
     "output_type": "stream",
     "text": [
      "[4]\tvalidation_0-auc:0.84363\tvalidation_1-auc:0.84621\n",
      "[5]\tvalidation_0-auc:0.84366\tvalidation_1-auc:0.84616\n",
      "[6]\tvalidation_0-auc:0.84389\tvalidation_1-auc:0.84602\n",
      "[7]\tvalidation_0-auc:0.84704\tvalidation_1-auc:0.84485\n",
      "[8]\tvalidation_0-auc:0.84711\tvalidation_1-auc:0.84482\n",
      "[9]\tvalidation_0-auc:0.84719\tvalidation_1-auc:0.84485\n",
      "[10]\tvalidation_0-auc:0.85085\tvalidation_1-auc:0.84363\n",
      "[11]\tvalidation_0-auc:0.85124\tvalidation_1-auc:0.84356\n",
      "[12]\tvalidation_0-auc:0.85136\tvalidation_1-auc:0.84359\n",
      "[13]\tvalidation_0-auc:0.85359\tvalidation_1-auc:0.84282\n",
      "[14]\tvalidation_0-auc:0.85405\tvalidation_1-auc:0.84349\n",
      "[15]\tvalidation_0-auc:0.85413\tvalidation_1-auc:0.84403\n",
      "[16]\tvalidation_0-auc:0.85436\tvalidation_1-auc:0.84361\n",
      "[17]\tvalidation_0-auc:0.85629\tvalidation_1-auc:0.84262\n",
      "[18]\tvalidation_0-auc:0.85648\tvalidation_1-auc:0.84232\n",
      "[19]\tvalidation_0-auc:0.85592\tvalidation_1-auc:0.84290\n",
      "[20]\tvalidation_0-auc:0.85681\tvalidation_1-auc:0.84279\n"
     ]
    },
    {
     "data": {
      "text/plain": [
       "XGBClassifier(base_score=0.5, booster='gbtree', colsample_bylevel=1,\n",
       "              colsample_bynode=1, colsample_bytree=1, gamma=0, gpu_id=-1,\n",
       "              importance_type='gain', interaction_constraints='',\n",
       "              learning_rate=0.1, max_delta_step=0, max_depth=6,\n",
       "              min_child_weight=1, missing=nan, monotone_constraints='()',\n",
       "              n_estimators=100, n_jobs=6, num_parallel_tree=1, random_state=0,\n",
       "              reg_alpha=0, reg_lambda=1, scale_pos_weight=1, subsample=1,\n",
       "              tree_method='exact', validate_parameters=1, verbosity=None)"
      ]
     },
     "execution_count": 423,
     "metadata": {},
     "output_type": "execute_result"
    }
   ],
   "source": [
    "clf_xgb = XGBClassifier(objective='binary:logistic', learning_rate=0.1)\n",
    "clf_xgb.fit(X_train, y_train, eval_set=[(X_train, y_train), (X_test, y_test)], verbose=True, eval_metric='auc', early_stopping_rounds=20)"
   ]
  },
  {
   "cell_type": "code",
   "execution_count": 424,
   "metadata": {
    "scrolled": false
   },
   "outputs": [
    {
     "data": {
      "image/png": "[encoded data removed]",
      "text/plain": [
       "<Figure size 1080x576 with 1 Axes>"
      ]
     },
     "metadata": {
      "needs_background": "light"
     },
     "output_type": "display_data"
    }
   ],
   "source": [
    "evaluation_result = clf_xgb.evals_result_\n",
    "x_axis = range(len(evaluation_result['validation_0']['auc']))\n",
    "\n",
    "fig, ax = plt.subplots(figsize=(15, 8))\n",
    "plt.plot(x_axis, evaluation_result['validation_0']['auc'], label='Train', color='steelblue', linewidth=2)\n",
    "plt.plot(x_axis, evaluation_result['validation_1']['auc'], label='Test', color='darkred', linewidth=2)\n",
    "\n",
    "plt.legend(loc = 'best')\n",
    "plt.ylabel('AUC')\n",
    "plt.title('Xgboost AUC')\n",
    "plt.show()"
   ]
  },
  {
   "cell_type": "code",
   "execution_count": 425,
   "metadata": {},
   "outputs": [
    {
     "data": {
      "image/png": "[encoded data removed]",
      "text/plain": [
       "<Figure size 1080x576 with 1 Axes>"
      ]
     },
     "metadata": {
      "needs_background": "light"
     },
     "output_type": "display_data"
    }
   ],
   "source": [
    "from xgboost import plot_importance\n",
    "fig, ax = plt.subplots(figsize=(15, 8))\n",
    "plot_importance(clf_xgb, ax=ax);"
   ]
  },
  {
   "cell_type": "code",
   "execution_count": 426,
   "metadata": {
    "scrolled": false
   },
   "outputs": [
    {
     "name": "stderr",
     "output_type": "stream",
     "text": [
      "C:\\Users\\EDZ\\Anaconda3\\lib\\site-packages\\xgboost\\data.py:114: UserWarning: Use subset (sliced data) of np.ndarray is not recommended because it will generate extra copies and increase memory consumption\n",
      "  \"because it will generate extra copies and increase \" +\n"
     ]
    }
   ],
   "source": [
    "from sklearn.metrics import classification_report\n",
    "y_pred = clf_xgb.predict_proba(X_test)[:, 1]\n",
    "fpr,tpr,thresholds = roc_curve(y_test, y_pred)"
   ]
  },
  {
   "cell_type": "code",
   "execution_count": 427,
   "metadata": {},
   "outputs": [
    {
     "name": "stdout",
     "output_type": "stream",
     "text": [
      "              precision    recall  f1-score   support\n",
      "\n",
      "           0       0.95      1.00      0.98     27290\n",
      "           1       1.00      0.54      0.70      2933\n",
      "\n",
      "    accuracy                           0.96     30223\n",
      "   macro avg       0.98      0.77      0.84     30223\n",
      "weighted avg       0.96      0.96      0.95     30223\n",
      "\n"
     ]
    }
   ],
   "source": [
    "print(classification_report(y_test, (y_pred>0.5)))"
   ]
  },
  {
   "cell_type": "code",
   "execution_count": 428,
   "metadata": {},
   "outputs": [],
   "source": [
    "threshold = []\n",
    "recall = []\n",
    "precision = []\n",
    "f1_score = []\n",
    "for t in np.arange(0, 1, 0.1):\n",
    "    report = classification_report(y_test, (y_pred > t), output_dict=True, zero_division=1)\n",
    "    r = report['1']['recall']\n",
    "    p = report['1']['precision']\n",
    "    f = report['1']['f1-score']\n",
    "    threshold.append(t)\n",
    "    recall.append(r)\n",
    "    precision.append(p)\n",
    "    f1_score.append(f)\n",
    "    \n",
    "report_df = pd.DataFrame(data={'threshold': threshold, 'recall': recall, 'precision':precision, 'f1_score':f1_score})"
   ]
  },
  {
   "cell_type": "code",
   "execution_count": 429,
   "metadata": {},
   "outputs": [
    {
     "data": {
      "text/html": [
       "<div>\n",
       "<style scoped>\n",
       "    .dataframe tbody tr th:only-of-type {\n",
       "        vertical-align: middle;\n",
       "    }\n",
       "\n",
       "    .dataframe tbody tr th {\n",
       "        vertical-align: top;\n",
       "    }\n",
       "\n",
       "    .dataframe thead th {\n",
       "        text-align: right;\n",
       "    }\n",
       "</style>\n",
       "<table border=\"1\" class=\"dataframe\">\n",
       "  <thead>\n",
       "    <tr style=\"text-align: right;\">\n",
       "      <th></th>\n",
       "      <th>threshold</th>\n",
       "      <th>recall</th>\n",
       "      <th>precision</th>\n",
       "      <th>f1_score</th>\n",
       "    </tr>\n",
       "  </thead>\n",
       "  <tbody>\n",
       "    <tr>\n",
       "      <th>0</th>\n",
       "      <td>0.0</td>\n",
       "      <td>1.000000</td>\n",
       "      <td>0.097045</td>\n",
       "      <td>0.176921</td>\n",
       "    </tr>\n",
       "    <tr>\n",
       "      <th>1</th>\n",
       "      <td>0.1</td>\n",
       "      <td>1.000000</td>\n",
       "      <td>0.097045</td>\n",
       "      <td>0.176921</td>\n",
       "    </tr>\n",
       "    <tr>\n",
       "      <th>2</th>\n",
       "      <td>0.2</td>\n",
       "      <td>1.000000</td>\n",
       "      <td>0.097045</td>\n",
       "      <td>0.176921</td>\n",
       "    </tr>\n",
       "    <tr>\n",
       "      <th>3</th>\n",
       "      <td>0.3</td>\n",
       "      <td>1.000000</td>\n",
       "      <td>0.097045</td>\n",
       "      <td>0.176921</td>\n",
       "    </tr>\n",
       "    <tr>\n",
       "      <th>4</th>\n",
       "      <td>0.4</td>\n",
       "      <td>1.000000</td>\n",
       "      <td>0.097045</td>\n",
       "      <td>0.176921</td>\n",
       "    </tr>\n",
       "    <tr>\n",
       "      <th>5</th>\n",
       "      <td>0.5</td>\n",
       "      <td>0.542107</td>\n",
       "      <td>0.999371</td>\n",
       "      <td>0.702918</td>\n",
       "    </tr>\n",
       "    <tr>\n",
       "      <th>6</th>\n",
       "      <td>0.6</td>\n",
       "      <td>0.000000</td>\n",
       "      <td>1.000000</td>\n",
       "      <td>0.000000</td>\n",
       "    </tr>\n",
       "    <tr>\n",
       "      <th>7</th>\n",
       "      <td>0.7</td>\n",
       "      <td>0.000000</td>\n",
       "      <td>1.000000</td>\n",
       "      <td>0.000000</td>\n",
       "    </tr>\n",
       "    <tr>\n",
       "      <th>8</th>\n",
       "      <td>0.8</td>\n",
       "      <td>0.000000</td>\n",
       "      <td>1.000000</td>\n",
       "      <td>0.000000</td>\n",
       "    </tr>\n",
       "    <tr>\n",
       "      <th>9</th>\n",
       "      <td>0.9</td>\n",
       "      <td>0.000000</td>\n",
       "      <td>1.000000</td>\n",
       "      <td>0.000000</td>\n",
       "    </tr>\n",
       "  </tbody>\n",
       "</table>\n",
       "</div>"
      ],
      "text/plain": [
       "   threshold    recall  precision  f1_score\n",
       "0        0.0  1.000000   0.097045  0.176921\n",
       "1        0.1  1.000000   0.097045  0.176921\n",
       "2        0.2  1.000000   0.097045  0.176921\n",
       "3        0.3  1.000000   0.097045  0.176921\n",
       "4        0.4  1.000000   0.097045  0.176921\n",
       "5        0.5  0.542107   0.999371  0.702918\n",
       "6        0.6  0.000000   1.000000  0.000000\n",
       "7        0.7  0.000000   1.000000  0.000000\n",
       "8        0.8  0.000000   1.000000  0.000000\n",
       "9        0.9  0.000000   1.000000  0.000000"
      ]
     },
     "execution_count": 429,
     "metadata": {},
     "output_type": "execute_result"
    }
   ],
   "source": [
    "report_df"
   ]
  },
  {
   "cell_type": "code",
   "execution_count": 388,
   "metadata": {},
   "outputs": [
    {
     "data": {
      "image/png": "[encoded data removed]",
      "text/plain": [
       "<Figure size 1080x576 with 1 Axes>"
      ]
     },
     "metadata": {
      "needs_background": "light"
     },
     "output_type": "display_data"
    }
   ],
   "source": [
    "fig, ax = plt.subplots(figsize=(15, 8))\n",
    "sns.lineplot(data=report_df, x='threshold', y='recall', color='steelblue', linewidth=2, label='recall', ax=ax)\n",
    "sns.lineplot(data=report_df, x='threshold', y='precision', color='darkred', linewidth=2, label='precision', ax=ax)\n",
    "sns.lineplot(data=report_df, x='threshold', y='f1_score', color='lightgreen', linewidth=2, label='f1_score',ax=ax)\n",
    "ax.grid(True);"
   ]
  },
  {
   "cell_type": "markdown",
   "metadata": {},
   "source": [
    "**If the goal is to minimize false positive or to maximize precision as much as possible, this would happen be at the expense of increase in false negative, since the rule would be more conservative to label a prediction as positive, hence more negatives would be generated. This holds true the other way around, if the aim is to decrease false negative, which is more likely in this case because the cost of false negative probably much higher than false positive, this would bring down the precision rate since the algorithm seeks the positive cases more aggresively even it might not be true.**"
   ]
  },
  {
   "cell_type": "markdown",
   "metadata": {},
   "source": [
    "**To answer the questions, if the cost of false positive is high, the impact is that the model would avoid it by turning down possible positives, which results in a high precision and low recall rate. If the cost of false negative is high, the model would do the exact opposite, which results in high recall and low precision.**"
   ]
  },
  {
   "cell_type": "markdown",
   "metadata": {},
   "source": [
    "# Question 2\n",
    "- **What kinds of users are more likely to be classified as at risk? What are their characteristics? Answer and explain these questions in the way that people have no data science background can also understand.**"
   ]
  },
  {
   "cell_type": "markdown",
   "metadata": {},
   "source": [
    "**Machine learning models such as XGBoost could be too complex and less intuitive to interprete, however, a decision tree model, which runs by logic could be in place to remedy this issue. Previously, we found that there were only a few features that had great impact on the XGBoost model, to give a simplified and intuitive model we can build a decision tree model with the important features above.**"
   ]
  },
  {
   "cell_type": "code",
   "execution_count": 393,
   "metadata": {},
   "outputs": [],
   "source": [
    "from sklearn.tree import DecisionTreeClassifier, export_graphviz\n",
    "from sklearn import tree\n",
    "from graphviz import Source\n",
    "import os\n",
    "os.environ[\"PATH\"] += os.pathsep + 'D:/Program Files/Graphviz/bin/'"
   ]
  },
  {
   "cell_type": "code",
   "execution_count": 416,
   "metadata": {},
   "outputs": [],
   "source": [
    "features = ['pur_after_signup_seconds','pur_after_signup_days','purchase_value','age','country']"
   ]
  },
  {
   "cell_type": "code",
   "execution_count": 418,
   "metadata": {},
   "outputs": [
    {
     "data": {
      "text/plain": [
       "DecisionTreeClassifier(max_depth=3)"
      ]
     },
     "execution_count": 418,
     "metadata": {},
     "output_type": "execute_result"
    }
   ],
   "source": [
    "clf_dt = DecisionTreeClassifier(max_depth=3)\n",
    "clf_dt.fit(X_train[features], y_train)"
   ]
  },
  {
   "cell_type": "code",
   "execution_count": 420,
   "metadata": {},
   "outputs": [
    {
     "data": {
      "image/svg+xml": [
       "<?xml version=\"1.0\" encoding=\"UTF-8\" standalone=\"no\"?>\r\n",
       "<!DOCTYPE svg PUBLIC \"-//W3C//DTD SVG 1.1//EN\"\r\n",
       " \"http://www.w3.org/Graphics/SVG/1.1/DTD/svg11.dtd\">\r\n",
       "<!-- Generated by graphviz version 2.47.3 (20210619.1520)\r\n",
       " -->\r\n",
       "<!-- Title: Tree Pages: 1 -->\r\n",
       "<svg width=\"621pt\" height=\"433pt\"\r\n",
       " viewBox=\"0.00 0.00 620.50 433.00\" xmlns=\"http://www.w3.org/2000/svg\" xmlns:xlink=\"http://www.w3.org/1999/xlink\">\r\n",
       "<g id=\"graph0\" class=\"graph\" transform=\"scale(1 1) rotate(0) translate(4 429)\">\r\n",
       "<title>Tree</title>\r\n",
       "<polygon fill=\"white\" stroke=\"transparent\" points=\"-4,4 -4,-429 616.5,-429 616.5,4 -4,4\"/>\r\n",
       "<!-- 0 -->\r\n",
       "<g id=\"node1\" class=\"node\">\r\n",
       "<title>0</title>\r\n",
       "<polygon fill=\"#e88e4e\" stroke=\"black\" points=\"334.5,-425 127.5,-425 127.5,-342 334.5,-342 334.5,-425\"/>\r\n",
       "<text text-anchor=\"middle\" x=\"231\" y=\"-409.8\" font-family=\"Times New Roman,serif\" font-size=\"14.00\">pur_after_signup_seconds &lt;= 1.5</text>\r\n",
       "<text text-anchor=\"middle\" x=\"231\" y=\"-394.8\" font-family=\"Times New Roman,serif\" font-size=\"14.00\">gini = 0.171</text>\r\n",
       "<text text-anchor=\"middle\" x=\"231\" y=\"-379.8\" font-family=\"Times New Roman,serif\" font-size=\"14.00\">samples = 100.0%</text>\r\n",
       "<text text-anchor=\"middle\" x=\"231\" y=\"-364.8\" font-family=\"Times New Roman,serif\" font-size=\"14.00\">value = [0.906, 0.094]</text>\r\n",
       "<text text-anchor=\"middle\" x=\"231\" y=\"-349.8\" font-family=\"Times New Roman,serif\" font-size=\"14.00\">class = Not Fraud</text>\r\n",
       "</g>\r\n",
       "<!-- 1 -->\r\n",
       "<g id=\"node2\" class=\"node\">\r\n",
       "<title>1</title>\r\n",
       "<polygon fill=\"#399de5\" stroke=\"black\" points=\"215,-298.5 103,-298.5 103,-230.5 215,-230.5 215,-298.5\"/>\r\n",
       "<text text-anchor=\"middle\" x=\"159\" y=\"-283.3\" font-family=\"Times New Roman,serif\" font-size=\"14.00\">gini = 0.0</text>\r\n",
       "<text text-anchor=\"middle\" x=\"159\" y=\"-268.3\" font-family=\"Times New Roman,serif\" font-size=\"14.00\">samples = 5.1%</text>\r\n",
       "<text text-anchor=\"middle\" x=\"159\" y=\"-253.3\" font-family=\"Times New Roman,serif\" font-size=\"14.00\">value = [0.0, 1.0]</text>\r\n",
       "<text text-anchor=\"middle\" x=\"159\" y=\"-238.3\" font-family=\"Times New Roman,serif\" font-size=\"14.00\">class = Fraud</text>\r\n",
       "</g>\r\n",
       "<!-- 0&#45;&gt;1 -->\r\n",
       "<g id=\"edge1\" class=\"edge\">\r\n",
       "<title>0&#45;&gt;1</title>\r\n",
       "<path fill=\"none\" stroke=\"black\" d=\"M206.02,-341.91C199.16,-330.76 191.71,-318.66 184.81,-307.44\"/>\r\n",
       "<polygon fill=\"black\" stroke=\"black\" points=\"187.63,-305.35 179.41,-298.67 181.67,-309.02 187.63,-305.35\"/>\r\n",
       "<text text-anchor=\"middle\" x=\"173.62\" y=\"-319.29\" font-family=\"Times New Roman,serif\" font-size=\"14.00\">True</text>\r\n",
       "</g>\r\n",
       "<!-- 2 -->\r\n",
       "<g id=\"node3\" class=\"node\">\r\n",
       "<title>2</title>\r\n",
       "<polygon fill=\"#e68743\" stroke=\"black\" points=\"372.5,-306 233.5,-306 233.5,-223 372.5,-223 372.5,-306\"/>\r\n",
       "<text text-anchor=\"middle\" x=\"303\" y=\"-290.8\" font-family=\"Times New Roman,serif\" font-size=\"14.00\">country &lt;= 2.5</text>\r\n",
       "<text text-anchor=\"middle\" x=\"303\" y=\"-275.8\" font-family=\"Times New Roman,serif\" font-size=\"14.00\">gini = 0.087</text>\r\n",
       "<text text-anchor=\"middle\" x=\"303\" y=\"-260.8\" font-family=\"Times New Roman,serif\" font-size=\"14.00\">samples = 94.9%</text>\r\n",
       "<text text-anchor=\"middle\" x=\"303\" y=\"-245.8\" font-family=\"Times New Roman,serif\" font-size=\"14.00\">value = [0.954, 0.046]</text>\r\n",
       "<text text-anchor=\"middle\" x=\"303\" y=\"-230.8\" font-family=\"Times New Roman,serif\" font-size=\"14.00\">class = Not Fraud</text>\r\n",
       "</g>\r\n",
       "<!-- 0&#45;&gt;2 -->\r\n",
       "<g id=\"edge2\" class=\"edge\">\r\n",
       "<title>0&#45;&gt;2</title>\r\n",
       "<path fill=\"none\" stroke=\"black\" d=\"M255.98,-341.91C261.4,-333.1 267.18,-323.7 272.78,-314.61\"/>\r\n",
       "<polygon fill=\"black\" stroke=\"black\" points=\"275.8,-316.37 278.06,-306.02 269.84,-312.7 275.8,-316.37\"/>\r\n",
       "<text text-anchor=\"middle\" x=\"283.85\" y=\"-326.64\" font-family=\"Times New Roman,serif\" font-size=\"14.00\">False</text>\r\n",
       "</g>\r\n",
       "<!-- 3 -->\r\n",
       "<g id=\"node4\" class=\"node\">\r\n",
       "<title>3</title>\r\n",
       "<polygon fill=\"#e89050\" stroke=\"black\" points=\"300.5,-187 73.5,-187 73.5,-104 300.5,-104 300.5,-187\"/>\r\n",
       "<text text-anchor=\"middle\" x=\"187\" y=\"-171.8\" font-family=\"Times New Roman,serif\" font-size=\"14.00\">pur_after_signup_seconds &lt;= 8855.0</text>\r\n",
       "<text text-anchor=\"middle\" x=\"187\" y=\"-156.8\" font-family=\"Times New Roman,serif\" font-size=\"14.00\">gini = 0.187</text>\r\n",
       "<text text-anchor=\"middle\" x=\"187\" y=\"-141.8\" font-family=\"Times New Roman,serif\" font-size=\"14.00\">samples = 0.1%</text>\r\n",
       "<text text-anchor=\"middle\" x=\"187\" y=\"-126.8\" font-family=\"Times New Roman,serif\" font-size=\"14.00\">value = [0.896, 0.104]</text>\r\n",
       "<text text-anchor=\"middle\" x=\"187\" y=\"-111.8\" font-family=\"Times New Roman,serif\" font-size=\"14.00\">class = Not Fraud</text>\r\n",
       "</g>\r\n",
       "<!-- 2&#45;&gt;3 -->\r\n",
       "<g id=\"edge3\" class=\"edge\">\r\n",
       "<title>2&#45;&gt;3</title>\r\n",
       "<path fill=\"none\" stroke=\"black\" d=\"M262.75,-222.91C253.58,-213.65 243.74,-203.73 234.3,-194.21\"/>\r\n",
       "<polygon fill=\"black\" stroke=\"black\" points=\"236.7,-191.66 227.17,-187.02 231.73,-196.59 236.7,-191.66\"/>\r\n",
       "</g>\r\n",
       "<!-- 6 -->\r\n",
       "<g id=\"node7\" class=\"node\">\r\n",
       "<title>6</title>\r\n",
       "<polygon fill=\"#e68742\" stroke=\"black\" points=\"519,-187 319,-187 319,-104 519,-104 519,-187\"/>\r\n",
       "<text text-anchor=\"middle\" x=\"419\" y=\"-171.8\" font-family=\"Times New Roman,serif\" font-size=\"14.00\">pur_after_signup_days &lt;= 101.5</text>\r\n",
       "<text text-anchor=\"middle\" x=\"419\" y=\"-156.8\" font-family=\"Times New Roman,serif\" font-size=\"14.00\">gini = 0.087</text>\r\n",
       "<text text-anchor=\"middle\" x=\"419\" y=\"-141.8\" font-family=\"Times New Roman,serif\" font-size=\"14.00\">samples = 94.8%</text>\r\n",
       "<text text-anchor=\"middle\" x=\"419\" y=\"-126.8\" font-family=\"Times New Roman,serif\" font-size=\"14.00\">value = [0.954, 0.046]</text>\r\n",
       "<text text-anchor=\"middle\" x=\"419\" y=\"-111.8\" font-family=\"Times New Roman,serif\" font-size=\"14.00\">class = Not Fraud</text>\r\n",
       "</g>\r\n",
       "<!-- 2&#45;&gt;6 -->\r\n",
       "<g id=\"edge6\" class=\"edge\">\r\n",
       "<title>2&#45;&gt;6</title>\r\n",
       "<path fill=\"none\" stroke=\"black\" d=\"M343.25,-222.91C352.42,-213.65 362.26,-203.73 371.7,-194.21\"/>\r\n",
       "<polygon fill=\"black\" stroke=\"black\" points=\"374.27,-196.59 378.83,-187.02 369.3,-191.66 374.27,-196.59\"/>\r\n",
       "</g>\r\n",
       "<!-- 4 -->\r\n",
       "<g id=\"node5\" class=\"node\">\r\n",
       "<title>4</title>\r\n",
       "<polygon fill=\"#f6d5bd\" stroke=\"black\" points=\"118,-68 0,-68 0,0 118,0 118,-68\"/>\r\n",
       "<text text-anchor=\"middle\" x=\"59\" y=\"-52.8\" font-family=\"Times New Roman,serif\" font-size=\"14.00\">gini = 0.48</text>\r\n",
       "<text text-anchor=\"middle\" x=\"59\" y=\"-37.8\" font-family=\"Times New Roman,serif\" font-size=\"14.00\">samples = 0.0%</text>\r\n",
       "<text text-anchor=\"middle\" x=\"59\" y=\"-22.8\" font-family=\"Times New Roman,serif\" font-size=\"14.00\">value = [0.6, 0.4]</text>\r\n",
       "<text text-anchor=\"middle\" x=\"59\" y=\"-7.8\" font-family=\"Times New Roman,serif\" font-size=\"14.00\">class = Not Fraud</text>\r\n",
       "</g>\r\n",
       "<!-- 3&#45;&gt;4 -->\r\n",
       "<g id=\"edge4\" class=\"edge\">\r\n",
       "<title>3&#45;&gt;4</title>\r\n",
       "<path fill=\"none\" stroke=\"black\" d=\"M139.34,-103.73C128.36,-94.33 116.69,-84.35 105.74,-74.99\"/>\r\n",
       "<polygon fill=\"black\" stroke=\"black\" points=\"107.8,-72.14 97.93,-68.3 103.25,-77.46 107.8,-72.14\"/>\r\n",
       "</g>\r\n",
       "<!-- 5 -->\r\n",
       "<g id=\"node6\" class=\"node\">\r\n",
       "<title>5</title>\r\n",
       "<polygon fill=\"#e78b49\" stroke=\"black\" points=\"275.5,-68 136.5,-68 136.5,0 275.5,0 275.5,-68\"/>\r\n",
       "<text text-anchor=\"middle\" x=\"206\" y=\"-52.8\" font-family=\"Times New Roman,serif\" font-size=\"14.00\">gini = 0.141</text>\r\n",
       "<text text-anchor=\"middle\" x=\"206\" y=\"-37.8\" font-family=\"Times New Roman,serif\" font-size=\"14.00\">samples = 0.1%</text>\r\n",
       "<text text-anchor=\"middle\" x=\"206\" y=\"-22.8\" font-family=\"Times New Roman,serif\" font-size=\"14.00\">value = [0.924, 0.076]</text>\r\n",
       "<text text-anchor=\"middle\" x=\"206\" y=\"-7.8\" font-family=\"Times New Roman,serif\" font-size=\"14.00\">class = Not Fraud</text>\r\n",
       "</g>\r\n",
       "<!-- 3&#45;&gt;5 -->\r\n",
       "<g id=\"edge5\" class=\"edge\">\r\n",
       "<title>3&#45;&gt;5</title>\r\n",
       "<path fill=\"none\" stroke=\"black\" d=\"M194.07,-103.73C195.52,-95.43 197.03,-86.67 198.49,-78.28\"/>\r\n",
       "<polygon fill=\"black\" stroke=\"black\" points=\"201.96,-78.75 200.22,-68.3 195.06,-77.55 201.96,-78.75\"/>\r\n",
       "</g>\r\n",
       "<!-- 7 -->\r\n",
       "<g id=\"node8\" class=\"node\">\r\n",
       "<title>7</title>\r\n",
       "<polygon fill=\"#e68742\" stroke=\"black\" points=\"469.5,-68 330.5,-68 330.5,0 469.5,0 469.5,-68\"/>\r\n",
       "<text text-anchor=\"middle\" x=\"400\" y=\"-52.8\" font-family=\"Times New Roman,serif\" font-size=\"14.00\">gini = 0.086</text>\r\n",
       "<text text-anchor=\"middle\" x=\"400\" y=\"-37.8\" font-family=\"Times New Roman,serif\" font-size=\"14.00\">samples = 80.5%</text>\r\n",
       "<text text-anchor=\"middle\" x=\"400\" y=\"-22.8\" font-family=\"Times New Roman,serif\" font-size=\"14.00\">value = [0.955, 0.045]</text>\r\n",
       "<text text-anchor=\"middle\" x=\"400\" y=\"-7.8\" font-family=\"Times New Roman,serif\" font-size=\"14.00\">class = Not Fraud</text>\r\n",
       "</g>\r\n",
       "<!-- 6&#45;&gt;7 -->\r\n",
       "<g id=\"edge7\" class=\"edge\">\r\n",
       "<title>6&#45;&gt;7</title>\r\n",
       "<path fill=\"none\" stroke=\"black\" d=\"M411.93,-103.73C410.48,-95.43 408.97,-86.67 407.51,-78.28\"/>\r\n",
       "<polygon fill=\"black\" stroke=\"black\" points=\"410.94,-77.55 405.78,-68.3 404.04,-78.75 410.94,-77.55\"/>\r\n",
       "</g>\r\n",
       "<!-- 8 -->\r\n",
       "<g id=\"node9\" class=\"node\">\r\n",
       "<title>8</title>\r\n",
       "<polygon fill=\"#e68843\" stroke=\"black\" points=\"612.5,-68 487.5,-68 487.5,0 612.5,0 612.5,-68\"/>\r\n",
       "<text text-anchor=\"middle\" x=\"550\" y=\"-52.8\" font-family=\"Times New Roman,serif\" font-size=\"14.00\">gini = 0.095</text>\r\n",
       "<text text-anchor=\"middle\" x=\"550\" y=\"-37.8\" font-family=\"Times New Roman,serif\" font-size=\"14.00\">samples = 14.4%</text>\r\n",
       "<text text-anchor=\"middle\" x=\"550\" y=\"-22.8\" font-family=\"Times New Roman,serif\" font-size=\"14.00\">value = [0.95, 0.05]</text>\r\n",
       "<text text-anchor=\"middle\" x=\"550\" y=\"-7.8\" font-family=\"Times New Roman,serif\" font-size=\"14.00\">class = Not Fraud</text>\r\n",
       "</g>\r\n",
       "<!-- 6&#45;&gt;8 -->\r\n",
       "<g id=\"edge8\" class=\"edge\">\r\n",
       "<title>6&#45;&gt;8</title>\r\n",
       "<path fill=\"none\" stroke=\"black\" d=\"M467.78,-103.73C479.13,-94.24 491.19,-84.16 502.49,-74.72\"/>\r\n",
       "<polygon fill=\"black\" stroke=\"black\" points=\"504.73,-77.4 510.16,-68.3 500.24,-72.03 504.73,-77.4\"/>\r\n",
       "</g>\r\n",
       "</g>\r\n",
       "</svg>\r\n"
      ],
      "text/plain": [
       "<graphviz.files.Source at 0x254e57ef198>"
      ]
     },
     "execution_count": 420,
     "metadata": {},
     "output_type": "execute_result"
    }
   ],
   "source": [
    "Source(tree.export_graphviz(clf_dt, feature_names=features, filled=True, class_names=['Not Fraud','Fraud'], proportion=True))"
   ]
  },
  {
   "cell_type": "code",
   "execution_count": 437,
   "metadata": {},
   "outputs": [
    {
     "data": {
      "text/plain": [
       "array(['Afghanistan', 'Albania', 'Algeria'], dtype=object)"
      ]
     },
     "execution_count": 437,
     "metadata": {},
     "output_type": "execute_result"
    }
   ],
   "source": [
    "le4.inverse_transform([0, 1, 2])"
   ]
  },
  {
   "cell_type": "markdown",
   "metadata": {},
   "source": [
    "**According to the model, for users that placed orders right after signup, they are extremely likely of fraud. If users are from country 0,1,2, which are Afghanistan, Albania and Algeria and purchase within 2.5 hours (8855 seconds), the chances of being fraud would be much higher.**"
   ]
  },
  {
   "cell_type": "markdown",
   "metadata": {},
   "source": [
    "# Question 3\n",
    "- If this model go live, based on the model opuput, what kind of user experience you would expect?"
   ]
  },
  {
   "cell_type": "markdown",
   "metadata": {},
   "source": [
    "**Based on the cut-off probability, if a transaction is classfied as fraud consider the live data generated, intervention  is expected to prevent the fraud from happening. If not, the user should have the normal experience.**"
   ]
  }
 ],
 "metadata": {
  "kernelspec": {
   "display_name": "Python 3",
   "language": "python",
   "name": "python3"
  },
  "language_info": {
   "codemirror_mode": {
    "name": "ipython",
    "version": 3
   },
   "file_extension": ".py",
   "mimetype": "text/x-python",
   "name": "python",
   "nbconvert_exporter": "python",
   "pygments_lexer": "ipython3",
   "version": "3.7.3"
  },
  "toc": {
   "base_numbering": 1,
   "nav_menu": {},
   "number_sections": true,
   "sideBar": true,
   "skip_h1_title": false,
   "title_cell": "Table of Contents",
   "title_sidebar": "Contents",
   "toc_cell": false,
   "toc_position": {},
   "toc_section_display": true,
   "toc_window_display": false
  },
  "varInspector": {
   "cols": {
    "lenName": 16,
    "lenType": 16,
    "lenVar": 40
   },
   "kernels_config": {
    "python": {
     "delete_cmd_postfix": "",
     "delete_cmd_prefix": "del ",
     "library": "var_list.py",
     "varRefreshCmd": "print(var_dic_list())"
    },
    "r": {
     "delete_cmd_postfix": ") ",
     "delete_cmd_prefix": "rm(",
     "library": "var_list.r",
     "varRefreshCmd": "cat(var_dic_list()) "
    }
   },
   "types_to_exclude": [
    "module",
    "function",
    "builtin_function_or_method",
    "instance",
    "_Feature"
   ],
   "window_display": false
  }
 },
 "nbformat": 4,
 "nbformat_minor": 2
}
